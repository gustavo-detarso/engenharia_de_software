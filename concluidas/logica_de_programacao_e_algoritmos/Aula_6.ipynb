{
 "cells": [
  {
   "cell_type": "code",
   "execution_count": 2,
   "id": "42d89fb8",
   "metadata": {
    "collapsed": false
   },
   "outputs": [
    {
     "name": "stdout",
     "output_type": "stream",
     "text": [
      "('Machado', 'Corda', 'Isqueiro', 'Palha seca')\n"
     ]
    }
   ],
   "source": [
    "mochila = ('Machado','Corda','Isqueiro','Palha seca')\n",
    "print(mochila)"
   ]
  },
  {
   "cell_type": "code",
   "execution_count": null,
   "id": "cebf0791",
   "metadata": {
    "collapsed": false
   },
   "outputs": [],
   "source": [
    "for item in mochila:\n",
    "    print('Na minha mochila tem: {}' .format(item))"
   ]
  },
  {
   "cell_type": "code",
   "execution_count": null,
   "id": "3c281a2c",
   "metadata": {
    "collapsed": false
   },
   "outputs": [],
   "source": [
    "tam = len(mochila)\n",
    "for i in range(0,tam,1):\n",
    "    print('Na minha mochila tem: {}'.format(mochila[i]))"
   ]
  },
  {
   "cell_type": "code",
   "execution_count": null,
   "id": "5a41fd6d",
   "metadata": {
    "collapsed": false
   },
   "outputs": [],
   "source": [
    "game = {}\n",
    "games = []\n",
    "\n",
    "for i in range(3):\n",
    "    game['nome'] = input('Digite o nome do jogo: ')\n",
    "    game['console'] = input('Digite o nome do console: ')\n",
    "    game['ano'] = int(input('Digite o ano do jogo: '))\n",
    "    games.append(game.copy())\n",
    "print('-' * 20)\n",
    "for e in games:\n",
    "    for i,j in e.items():\n",
    "        print('O campo {} tem o valor {}'.format(i,j))"
   ]
  },
  {
   "cell_type": "code",
   "execution_count": null,
   "id": "cff0517a",
   "metadata": {
    "collapsed": false
   },
   "outputs": [],
   "source": [
    "games = {'nome':[], 'console':[], 'ano':[]}\n",
    "\n",
    "for i in range(3):\n",
    "    nome = input('Digite o nome do jogo: ')\n",
    "    console = input('Digite o nome do console: ')\n",
    "    ano = int(input('Digite o ano do jogo: '))\n",
    "    games['nome'].append(nome)\n",
    "    games['console'].append(console)\n",
    "    games['ano'].append(ano)\n",
    "print('-'*20)\n",
    "print(games)"
   ]
  }
 ],
 "metadata": {
  "kernelspec": {
   "argv": [
    "python",
    "-m",
    "ipykernel_launcher",
    "-f",
    "{connection_file}"
   ],
   "display_name": "Python 3",
   "env": null,
   "interrupt_mode": "signal",
   "language": "python",
   "metadata": null,
   "name": "python3"
  },
  "name": "Untitled.ipynb"
 },
 "nbformat": 4,
 "nbformat_minor": 5
}
