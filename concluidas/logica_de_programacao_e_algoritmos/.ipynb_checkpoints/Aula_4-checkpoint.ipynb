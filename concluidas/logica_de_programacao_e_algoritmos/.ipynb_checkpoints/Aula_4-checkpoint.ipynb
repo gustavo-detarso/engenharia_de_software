{
 "cells": [
  {
   "cell_type": "markdown",
   "id": "5d1100e2",
   "metadata": {
    "collapsed": false
   },
   "source": [
    "# Aula 4\n",
    "\n",
    "## Conversa Inicial:\n",
    "\n",
    "Nesta aula você irá aprender a criar códigos com repetição de instruções, também chamados de **códigos interativos**.\n",
    "\n",
    "## Tema 1 - Estrutura de repetição\n",
    "\n",
    "Estruturas aonde todas as instruções contidas nela se repetem de maneira indefinida, até que a condição seja satisfeita, encerrando o que chamamos de _loop_ (ou laço) de repetição.\n",
    "\n",
    "## Tema 2 - Estrutura de repetição _while_\n",
    "\n",
    "Estrutura que repete um bloco de instruções enquanto uma determinada condição se mantiver verdadeira. Caso contrário, ocorre o desvio para a primeira linha de código após esse bloco de repetição. O _Python_ trabalha com a identação para identificar o que pertence ao seu bloco, ou seja, não requer um finalizador para ele. Sempre fique atento para a identação.\n",
    "\n",
    "Caso a condição se mantenha verdadeira, nosso programa se mantém preso dentro do _loop_. Após a condição, devemos obrigatoriamente colocar dois pontos."
   ]
  },
  {
   "cell_type": "code",
   "execution_count": null,
   "id": "2c82b987",
   "metadata": {
    "collapsed": false
   },
   "outputs": [],
   "source": [
    "# Neste exemplo, começamos a variável no número 1 e adicionamos incremento de uma unidade até que atinja o valor \"5\" (laço de loop) e assim, terminando a execução do algoritmo.\n",
    "x = 1 # valor inicial da variável\n",
    "while (x <= 5): # determinando a condição para o laço de loop. O número de vezes que o laço é executado chamamos de variável de controle do loop, neste caso representado pela expressão \"<= 5\".\n",
    "    print(x)\n",
    "    x = x + 1 # esta é a linha do incremento e caso não existisse, a variável \"x\" se repetiria infinitamente com o número \"1\", pois sempre seria menor ou igual a \"5\"."
   ]
  },
  {
   "cell_type": "code",
   "execution_count": null,
   "id": "94924cc0",
   "metadata": {
    "collapsed": false
   },
   "outputs": [],
   "source": [
    "# Neste exemplo, começamos a variável no número 0 e adicionamos incremento de uma unidade até que atinja o valor \"99\" e assim, terminando a execução do algoritmo.\n",
    "x = 0 # valor inicial da variável\n",
    "while x < 100: # determinando a condição para o laço de loop. O número de vezes que o laço é executado chamamos de variável de controle do loop, neste caso representado pela expressão \"< 100\".\n",
    "    print(x) # imprime os resultados caso a condição acima for satisfeita (obeserve a indentação).\n",
    "    x += 1 # esta é a linha do incremento e caso não existisse, a variável \"x\" se repetiria infinitamente com o número \"0\", pois sempre seria menor do que \"100\"."
   ]
  },
  {
   "cell_type": "code",
   "execution_count": null,
   "id": "a9c10376",
   "metadata": {
    "collapsed": false
   },
   "outputs": [],
   "source": [
    "# Neste exemplo, começamos a variável no número 10 e adicionamos incremento de uma unidade até que atinja o valor \"1000\" e assim, terminando a execução do algoritmo.\n",
    "x = 10 # valor inicial da variável\n",
    "while x > 9 and x <= 1000: # determinando a condição para o laço de loop. O número de vezes que o laço é executado chamamos de variável de controle do loop, neste caso representado pela expressão \"x > 9 and x <= 1000\", caso contrário o loop seria infinito.\n",
    "    print(x) # imprime os resultados caso a condição acima for satisfeita (obeserve a indentação).\n",
    "    x += 1 # esta é a linha do incremento está escrita de uma forma mais elegante."
   ]
  },
  {
   "cell_type": "code",
   "execution_count": null,
   "id": "609a4361",
   "metadata": {
    "collapsed": false
   },
   "outputs": [],
   "source": [
    "# Neste exemplo, começamos a variável no número 10 e subtraímos de uma unidade até que atinja o valor 0 e assim, imprimindo a palavra \"FOGO!\".\n",
    "print('CONTAGEM REGRESSIVA PARA LANÇAMENTO DE FOGUETE')\n",
    "x = 10 # valor inicial da variável\n",
    "while x >= 0: # determinando a condição para o laço de loop. O número de vezes que o laço é executado chamamos de variável de controle do loop, neste caso representado pela expressão \">= 0\".\n",
    "    print(x) # imprime os resultados caso a condição acima for satisfeita (obeserve a indentação).\n",
    "    x = x - 1 # esta é a linha de subtração.\n",
    "else: # condição após o while concluir.\n",
    "    print('FOGO!')"
   ]
  },
  {
   "cell_type": "markdown",
   "id": "45727683",
   "metadata": {
    "collapsed": false
   },
   "source": [
    "### Tema 2.1 - Contadores"
   ]
  },
  {
   "cell_type": "code",
   "execution_count": null,
   "id": "c38fae0d",
   "metadata": {
    "collapsed": false
   },
   "outputs": [],
   "source": [
    "# Criar um algoritmo em que o usuário digite um valor inicial e um valor final, armazenando os resultados em variáveis distintas e que imprima na tela apenas os números pares dentro do intervalo estipulado pelo usuário.\n",
    "\n",
    "inicio = int(input('Digite um número inteiro para iniciar a contagem: ')) # variável para ser inserido pelo usuário o valor do início da contagem\n",
    "fim = int(input('Digite um número inteiro para terminar a contagem: ')) # variável para ser inserido pelo usuário o valor do final da contagem\n",
    "\n",
    "while inicio <= fim: # determinado a condição do laço de loop. Esta linha diz que enquanto o valor inserido como inicial for menor ou igual ao valor inserido como final, o algoritmo será executado.\n",
    "    print(inicio) # imprime os números pares caso a condição da linha superior seja completada (observe a indentação).\n",
    "    inicio = inicio + 1 # linha de incremento."
   ]
  },
  {
   "cell_type": "code",
   "execution_count": null,
   "id": "99aad4be",
   "metadata": {
    "collapsed": false
   },
   "outputs": [],
   "source": [
    "# Criar um algoritmo em que o usuário digite um valor inicial e um valor final, armazenando os resultados em variáveis distintas e que imprima na tela apenas os números pares dentro do intervalo estipulado pelo usuário.\n",
    "\n",
    "inicio = int(input('Digite um número inteiro para iniciar a contagem: ')) # variável para ser inserido pelo usuário o valor do início da contagem\n",
    "fim = int(input('Digite um número inteiro para terminar a contagem: ')) # variável para ser inserido pelo usuário o valor do final da contagem\n",
    "\n",
    "while inicio <= fim: # determinado a condição do laço de loop. Esta linha diz que enquanto o valor inserido como inicial for menor ou igual ao valor inserido como final, o algoritmo será executado.\n",
    "    if inicio % 2 == 0: # aqui é a subcondição do loop que estipula retornar apenas os números pares, uma vez que um número que possui módulo (\"%\") igual a zero é um número par.\n",
    "        print(inicio) # imprime os números pares caso a condição da linha superior seja completada (observe a indentação).\n",
    "    inicio = inicio + 1 # linha de incremento."
   ]
  },
  {
   "cell_type": "markdown",
   "id": "16538c09",
   "metadata": {
    "collapsed": false
   },
   "source": [
    "#### Prática com exercícios:"
   ]
  },
  {
   "cell_type": "code",
   "execution_count": null,
   "id": "ad05d1f6",
   "metadata": {
    "collapsed": false
   },
   "outputs": [],
   "source": [
    "# Criar um algoritmo em que o usuário digite um valor inicial e um valor final, armazenando os resultados em variáveis distintas e que imprima na tela apenas os números pares dentro do intervalo estipulado pelo usuário. Versão alternativa.\n",
    "# ATENÇÃO: esta solução só funciona se o número inicial for par.\n",
    "\n",
    "inicio = int(input('Digite um número par inteiro para iniciar a contagem: ')) # variável para ser inserido pelo usuário o valor do início da contagem\n",
    "fim = int(input('Digite um número inteiro para terminar a contagem: ')) # variável para ser inserido pelo usuário o valor do final da contagem\n",
    "\n",
    "while inicio <= fim: # determinado a condição do laço de loop. Esta linha diz que enquanto o valor inserido como inicial for menor ou igual ao valor inserido como final, o algoritmo será executado.\n",
    "    print(inicio) # imprime os números pares caso a condição da linha superior seja completada (observe a indentação).\n",
    "    inicio = inicio + 2 # linha de incremento."
   ]
  },
  {
   "cell_type": "code",
   "execution_count": null,
   "id": "89d88e64",
   "metadata": {
    "collapsed": false
   },
   "outputs": [],
   "source": [
    "# Escreva na tela os dez primeiros valores múltiplos de 3\n",
    "\n",
    "inicio = int(input('Digite um número inteiro para iniciar a contagem: ')) # variável para ser inserido pelo usuário o valor do início da contagem\n",
    "fim = int(input('Digite um número inteiro para terminar a contagem: ')) # variável para ser inserido pelo usuário o valor do final da contagem\n",
    "count = 1 # pela primeira vez estamos definindo um contador. Neste caso o contador inicial é no número \"1\".\n",
    "while inicio <= fim and count <= 10: # determinado a condição do laço de loop. Esta linha diz que enquanto o valor inserido como inicial for menor ou igual ao valor inserido como final E que o contador seja menor igual do que \"10\", o algoritmo será executado.\n",
    "    if inicio % 3 == 0: # fórmula matemática para encontrar múltiplos de \"3\", já estes números quando divididos por \"3\" apresentam resto (\"%\") \"0\".\n",
    "        print(inicio) # imprime os números múltiplos de \"3\" caso a condição da linha superior seja completada (observe a indentação).\n",
    "        count += 1 # incremento do contador para a condição \"if\" (observe a indentação).\n",
    "    inicio += 1 # incremento para a condição \"while\" (observe a indentação)."
   ]
  },
  {
   "cell_type": "code",
   "execution_count": null,
   "id": "d677f07e",
   "metadata": {
    "collapsed": false
   },
   "outputs": [],
   "source": [
    "# Escreva um algoritmo que calcule a tabuada de um número escolhido pelo usuário. Imprima na tela a tabuada desse número de \"1 a 10\". \n",
    "\n",
    "multiplicador = int(input('Digite um número inteiro para saber sua tabuada: ')) # aqui o usuário digita o número que ele deseja multiplicar para a tabuada.\n",
    "multiplicando = 1 # multiplicando neste caso funciona como um contador, uma vez que os números são fixos de \"1 a 10\".\n",
    "print('A tabuada de {} é:' .format(multiplicador)) # texto para informar o usuário qual a tabuada para o número escolhido.\n",
    "while multiplicando >= 1 and multiplicando <= 10: # condição para a tabuada de \"1 a 10\"\n",
    "    print('{}x{}={}' .format(multiplicador,multiplicando,(multiplicando * multiplicador))) # resultado da tabuada \n",
    "    multiplicando += 1 # aqui o incremento do contador"
   ]
  },
  {
   "cell_type": "markdown",
   "id": "5e082c68",
   "metadata": {
    "collapsed": false
   },
   "source": [
    "### Tema 2.2 - Acumuladores\n",
    "\n",
    "São variáveis capazes de acumular totais, como realizar o somatório de um conjunto de dados. O que difere um _acumulador_ de um _contador_ é que o primeiro adiciona valores **variáveis** e o outro valores **constantes**.\n",
    "\n",
    "Em problemas que exijam acumuladores, geralmente também necessitamos de contadores para que sirva de variável de controle do laço de _loop_.\n",
    "\n",
    "Neste próximo exemplo, vamos construir um exemplo que calcule a soma de cinco valores inteiros. Cada valor a ser somado será digitado pelo usuário. Aqui, vamos criar uma variável acumuladora chamada de _soma_, justamente para receber o somatório desejado e uma variável contadora _cont_, que irá de \"1 até 5\" para que possamos saber que já foram digitados 5 valores."
   ]
  },
  {
   "cell_type": "code",
   "execution_count": null,
   "id": "7fd80fc6",
   "metadata": {
    "collapsed": false
   },
   "outputs": [],
   "source": [
    "soma = 0 # definindo a variável acumuladora (obrigatório começar no zero, ou o algoritmo não saberá qual valor iniciar a contagem).\n",
    "cont = 1 # definindo o contador\n",
    "while (cont <= 5): # condição para o loop, ou seja, tudo o que vier depois será repetido cinco vezes.\n",
    "    x = int(input('Digite o {}º número: ' .format(cont))) # esta é a linha que irá se repetir até a condição acima ser satisfeita para guardar os valores na variável acumuladora.\n",
    "    soma += x # fórmula matemática para somar todos os valores digitados pelo usuário na variável acumuladora.\n",
    "    cont += 1 # incremento do contador.\n",
    "print('Somatório: {}' .format(soma)) # imprime na tela o valor final."
   ]
  },
  {
   "cell_type": "markdown",
   "id": "8163240a",
   "metadata": {
    "collapsed": false
   },
   "source": [
    "Vamos agora expandir o algoritmo da soma para calcular também a média final dos valores digitados pelo usuário."
   ]
  },
  {
   "cell_type": "code",
   "execution_count": null,
   "id": "599acd89",
   "metadata": {
    "collapsed": false
   },
   "outputs": [],
   "source": [
    "soma = 0 # definindo a variável acumuladora (obrigatório começar no zero, ou o algoritmo não saberá qual valor iniciar a contagem).\n",
    "cont = 1 # definindo o contador\n",
    "while (cont <= 5): # condição para o loop, ou seja, tudo o que vier depois será repetido cinco vezes.\n",
    "    x = float(input('Digite a {}ª nota: ' .format(cont))) # esta é a linha que irá se repetir até a condição acima ser satisfeita para guardar os valores na variável acumuladora.\n",
    "    soma += x # fórmula matemática para somar todos os valores digitados pelo usuário na variável acumuladora.\n",
    "    cont += 1 # incremento do contador.\n",
    "media = soma / 5 # cálculo da média após as notas serem digitadas. \n",
    "print('Média final: {:.1f}' .format(media)) # imprime na tela o valor final."
   ]
  },
  {
   "cell_type": "markdown",
   "id": "8de1ee4d",
   "metadata": {
    "collapsed": false
   },
   "source": [
    "#### Exercícios:"
   ]
  },
  {
   "cell_type": "code",
   "execution_count": null,
   "id": "ebd088a0",
   "metadata": {
    "collapsed": false
   },
   "outputs": [],
   "source": [
    "# Escreva um algoritmo que leia dois valores e imprima na tela o resultado da multiplicação de ambos. Entretanto, para calcular a multiplicação, utilize somente operações de soma e subtração. Lembrando que uma multiplicação pode ser considerada um somatório sucessivo.\n",
    "\n",
    "# Vamos precisar de criar duas variáveis distintas:\n",
    "# a) A primeira definirá o ponto final da repetição do contador.\n",
    "# b) A segunda será o número que irá ser somado quantas vezes foram determinadas no primeiro valor.\n",
    "valor_um = float(input('Digite o primeiro valor: ')) # definindo o primeiro valor.\n",
    "valor_dois = float(input('Digite o segundo valor: ')) # definindo o segundo valor.\n",
    "cont = 1 # definindo o contador.\n",
    "multi = 0 # definindo a variável acumuladora\n",
    "while (cont <= valor_um): # definindo a condição do loop.\n",
    "    multi += valor_dois # fórmula matemática para realizar a multiplicação usando apenas soma. Essa variável que dizer que enquanto o contador for menor ou igual ao primeiro valor inserido, este valor será somado até que a condição seja satisfeita.\n",
    "    cont += 1 # incremento do contador.\n",
    "print('O resultado da multiplicação {}x{} é: {}' .format(valor_um, valor_dois, multi)) # print do resultado após a condição."
   ]
  },
  {
   "cell_type": "code",
   "execution_count": null,
   "id": "7917b309",
   "metadata": {
    "collapsed": false
   },
   "outputs": [],
   "source": [
    "# Escreva um algoritmo que obtenha do usuário um valor inicial e um valor final. Para este intervalo especificado pelo usuário, calcule e mostre na tela (Puga, p. 70):\n",
    "# a) A quantidade de números inteiros e positivos;\n",
    "# b) A quantidade de números pares;\n",
    "# c) A quantidade de números ímpares;\n",
    "# d) A respectiva média de cada um dos itens anteriores.\n",
    "\n",
    "# Será necessário criar uma variável distinta para cada somatório, para cada quantidade e para cada média solicitada.\n",
    "# Informações preliminares:\n",
    "inicio = int(input('Digite um valor para ser a referência inicial: ')) # valor inicial digitado pelo usuário.\n",
    "fim = int(input('Digite um valor para ser a referência final: ')) # valor final digitado pelo usuário.\n",
    "\n",
    "# Início das variáveis:\n",
    "qtd_positivos = 0 # contador para a quantidade de números positivos.\n",
    "qtd_pares = 0 # contador para a quantidade de números pares.\n",
    "qtd_impares = 0 # contador para a quantidade de números ímpares.\n",
    "soma_positivos = 0 # acumulador para os números positivos.\n",
    "soma_pares = 0 # acumulador para os números pares.\n",
    "soma_impares = 0 # acumulador para os números ímpares.\n",
    "cont = inicio\n",
    "# Início do algoritmo:\n",
    "if inicio < fim: # condição que determina que o início não pode ser maior ou igual ao fim.\n",
    "    while cont <= fim: # condição para iniciar o algoritmo sempre que o inicio for menor ou igual ao fim, uma vez que o fim pode ser um número que consta em alguma das variáveis abaixo.\n",
    "        if cont > 0: # condição para os números positivos.\n",
    "            qtd_positivos += 1\n",
    "            soma_positivos += cont  \n",
    "        if cont %2 == 0: # condição para os números pares.\n",
    "            qtd_pares += 1\n",
    "            soma_pares += cont\n",
    "        else: # condição para os números ímpares.\n",
    "            qtd_impares += 1\n",
    "            soma_impares += cont\n",
    "        cont += 1 # incremento para o valor digitado como inicio, para que as condições acima sejam deflagradas.\n",
    "    media_positivos = soma_positivos / qtd_positivos\n",
    "    media_pares = soma_pares / qtd_pares\n",
    "    media_impares = soma_impares / qtd_impares\n",
    "    print('A quantidade de números positivos é {}, a soma deles é {} e a média é {}' .format(qtd_positivos,soma_positivos,media_positivos))\n",
    "    print('A quantidade de números pares é {}, a soma deles é {} e a média é {}' .format(qtd_pares,soma_pares,media_pares))\n",
    "    print('A quantidade de números ímpares é {}, a soma deles é {} e a média é {}' .format(qtd_impares,soma_impares, media_impares))\n",
    "else:\n",
    "    print('O valor inicial digitado é igual ou maior do que o valor final. Saindo do programa...') "
   ]
  },
  {
   "cell_type": "markdown",
   "id": "c8c95178",
   "metadata": {
    "collapsed": false
   },
   "source": [
    "## Tema 3 - Características e recursos avançados de laços em Python\n",
    "### Tema 3.1 - Operadores especiais de atribuição\n",
    "\n",
    "+=\n",
    "-=\n",
    "*=\n",
    "/=\n",
    "**=\n",
    "//="
   ]
  },
  {
   "cell_type": "markdown",
   "id": "9625c3bc",
   "metadata": {
    "collapsed": false
   },
   "source": [
    "### Tema 3.2 Validando dados de entrada com um _loop_\n",
    "\n",
    "Usado quando necessitamos de alguma condição para validação de dados."
   ]
  },
  {
   "cell_type": "code",
   "execution_count": null,
   "id": "b7303345",
   "metadata": {
    "collapsed": false
   },
   "outputs": [],
   "source": [
    "x =int(input('Digite um valor maior do que zero: ')) # dado de entrada pelo usuário\n",
    "while (x <= 0): # condição que irá validar o dado, ou seja, enquanto x for menor do que zero, a pergunta se repetirá\n",
    "    x = int(input('Digite um valor maior do que zero: ')) # repetição da pergunta pelo dado ser digitado errado\n",
    "print('Você digitou {}. Encerrando o programa...' .format(x)) # impressão na tela do dado após ter sido validado."
   ]
  },
  {
   "cell_type": "code",
   "execution_count": null,
   "id": "b14b9b51",
   "metadata": {
    "collapsed": false
   },
   "outputs": [],
   "source": [
    "# Queremos que um usuário digite diversas palavras ou frases e que o programa só encerre quando ele digitar explicitamente a palavra \"sair\".\n",
    "\n",
    "texto = input('Digite uma palavra ou frase: ') # definindo a variável texto para que o usuário digite uma palavra ou frase.\n",
    "while texto != 'sair': # condição para que seja sempre ofertado a possibilidade do usuário digitar uma palavra ou frase.\n",
    "    print(texto) # comando para imprimir o texto.\n",
    "    texto = input('Digite uma palavra ou frase: ') # retornar o comando, caso contrário o texto escrito se repetirá infinitamente.\n",
    "print('Encerrando o programa...') # encerrando o programa caso seja escrito a palavra \"sair\"."
   ]
  },
  {
   "cell_type": "markdown",
   "id": "19549881",
   "metadata": {
    "collapsed": false
   },
   "source": [
    "### Tema 3.3 - Interrompendo um _loop_ com _break_\n",
    "\n",
    "A instrução _break_ serve para simplesmente encerrar um laço de repetição previamente, independentemente do estado da variável de controle do laço. Exemplo:"
   ]
  },
  {
   "cell_type": "code",
   "execution_count": null,
   "id": "46854c9f",
   "metadata": {
    "collapsed": false
   },
   "outputs": [],
   "source": [
    "print('Digite uma mensagem que irei repetir para você') # mensagens preliminares.\n",
    "print('Para encerrar escreva \"sair\".') # mensagens preliminares.\n",
    "while True: # loop infinito para que o usuário sempre digite uma frase.\n",
    "    texto = input('') # texto a ser digitado pelo usuário.\n",
    "    print(texto) # imprimir na tela o usuário.\n",
    "    if texto == 'sair': # condição para terminar o programa.\n",
    "        break # comando para interromper o loop e encerrar o programa.\n",
    "print('Encerrando o programa') # mensagem de encerramento do programa."
   ]
  },
  {
   "cell_type": "markdown",
   "id": "69607982",
   "metadata": {
    "collapsed": false
   },
   "source": [
    "### Tema 3.4 - Voltando ao início do _loop_ com _continue_\n",
    "\n",
    "O comando _continue_ serve para retornar o laço ao início a qualquer momento. Independentemente do estado da variável de controle da condicional do laço."
   ]
  },
  {
   "cell_type": "code",
   "execution_count": null,
   "id": "c11153ae",
   "metadata": {
    "collapsed": false
   },
   "outputs": [],
   "source": [
    "while True: # loop infinito.\n",
    "    nome = input('Qual o seu nome? ') # definindo a variável nome.\n",
    "    if nome != 'Lenhadorzinho': # condicional para que seja validado apenas o nome \"Lenhadorzinho\".\n",
    "        continue # enquanto a condicional acima não for satisfeita, deverá continuar a inserir a variável \"nome\".\n",
    "    senha = input('Qual a sua senha?') # caso a variável \"nome\" seja \"Lenhadorzinho\", será perguntado a senha.\n",
    "    if senha == 'SeNha': # caso a senha digitada seja \"SeNha\", o loop é parado para imprimir na tela a mensagem \"Acesso concedido\".\n",
    "        break # ponto de parada para a finalização do loop.\n",
    "print('Acesso concedido!') # imprimir na tela após as condições serem satisfeitas."
   ]
  },
  {
   "cell_type": "markdown",
   "id": "17d90ff0",
   "metadata": {
    "collapsed": false
   },
   "source": [
    "### Tema 3.5 - Valores _Truthy_ e _Falsey_:\n",
    "\n",
    "O Python considera o numeral zero, tanto inteiro quanto em ponto flutuante,\n",
    "como um valor _Falsey_ e pode ser tratado na linguagem como _False_. Assim\n",
    "como uma string vazia (quando só colocamos aspas simples sem caracteres\n",
    "dentro) também é um dado _Falsey_. Todos os outros dados não listados podem\n",
    "ser tratados como _Truthy/True_ pela linguagem. Exemplo:\n",
    "\n",
    "Inicializamos uma variável _nome_ (_while not me_). Fazer isso é o equivalente\n",
    "a fazer _while True_, pois a _string_ vazia é _False_ e, ao negá-la,\n",
    "invertemos seu valor para _True_. Assim, fazemos com que o programa caia\n",
    "dentro do laço de repetição e solicite um nome."
   ]
  },
  {
   "cell_type": "code",
   "execution_count": null,
   "id": "a6bc2762",
   "metadata": {
    "collapsed": false
   },
   "outputs": [],
   "source": [
    "nome = ''\n",
    "while not nome: # Teste lógico no qual estamos negando a variável nome. Fazer isso é o equivalente a fazer \"while True\", pois a string vazia é False e, ao negá-la, invertemos seu valor para True. Assim, fazemos com que o programa caia dentro do laço de repetição e solicite um nome.\n",
    "    nome = input('Digite seu nome: ')\n",
    "valor = int(input('Digite um número qualquer: '))\n",
    "if valor: # Teste condicional, quando fazemos isso, o Python interpreta o númnero digitado como um valor lógico. Caso seja digitado zero, o teste lógico resultará em False, caindo no else. Qualquer outro valor será True.\n",
    "    print('Você digitou um valor diferente de zero!')\n",
    "else:\n",
    "    print('Você digitou zero!')"
   ]
  },
  {
   "cell_type": "markdown",
   "id": "5b071a52",
   "metadata": {
    "collapsed": false
   },
   "source": [
    "### 3.6 Exercício:\n",
    "\n",
    "Escreva um algoritmo que leia números inteiros via teclado. Somente valores\n",
    "positivos podem ser aceitos pelo programa.\n",
    "\n",
    "O programa deve receber números até que o usuário digite \"zero\". Ao final da\n",
    "execução, informe a média dos valores digitados. Realize a implementação com\n",
    "as instruções _break_ e _continue_ e trabalhe com operações lógicas _Truthy_ e\n",
    "_Falsey_. Não esqueça de empregar também operadores especiais de atribuição."
   ]
  },
  {
   "cell_type": "code",
   "execution_count": null,
   "id": "89fa90b1",
   "metadata": {
    "collapsed": false
   },
   "outputs": [],
   "source": [
    "qtd_numeros = 0\n",
    "soma = 0\n",
    "numero = 0\n",
    "while True:\n",
    "    numero = print('Digite um número inteiro: ')\n",
    "    if numero < 0:\n",
    "        continue\n",
    "    if not numero:\n",
    "        break\n",
    "    soma += numero\n",
    "    qtd_numeros += 1\n",
    "media = soma / qtd_numeros\n",
    "print('Você digitou {} números, a soma deles é {} e a média {}' .format(qtd_numeros,soma,media))"
   ]
  }
 ],
 "metadata": {
  "kernelspec": {
   "argv": [
    "python",
    "-m",
    "ipykernel_launcher",
    "-f",
    "{connection_file}"
   ],
   "display_name": "Python 3",
   "env": null,
   "interrupt_mode": "signal",
   "language": "python",
   "metadata": null,
   "name": "python3"
  },
  "name": "Aula_4.ipynb"
 },
 "nbformat": 4,
 "nbformat_minor": 5
}
