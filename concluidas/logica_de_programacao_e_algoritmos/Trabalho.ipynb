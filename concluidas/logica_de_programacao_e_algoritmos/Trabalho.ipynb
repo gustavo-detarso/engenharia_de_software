{
 "cells": [
  {
   "cell_type": "markdown",
   "id": "ba1efa5f",
   "metadata": {
    "collapsed": false
   },
   "source": [
    "# Exercício 1:\n",
    "\n",
    "Escreva  um  programa  que  leia  o  nome de  um  lutador  e  seu  peso.  Em  seguida,  informe a categoria a que pertence o lutador, conforme a Tabela a seguir (note que a tabela foi criada para efeito deste exercício e não condiz com qualquer categoria de luta). Todos  os  dados  devem  ser  lidos  do  teclado,  sendo  que  o  nome  do  lutador  é  uma string e o peso é um número real. Não é necessário armazenar os dados em uma estrutura de dados, basta imprimir na tela. Coloque todo o seu programa dentro de um laço de repetição e faça-o se encerrar quando uma determinada condição for satisfeita. A condição fica a seu critério, como por exemplo, encerrar o programa ao digitar a palavra sair, ou então um peso inválido como o valor zero. Imprima na tela um teste do seu programa utilizando o seu nome e os dois últimos dígitos do seu RU para o peso."
   ]
  },
  {
   "cell_type": "code",
   "execution_count": null,
   "id": "7559ef05",
   "metadata": {
    "collapsed": false
   },
   "outputs": [],
   "source": [
    "print('*'*50)\n",
    "print('Automatização de categorias de luta')\n",
    "print('*'*50)\n",
    "print('Escolha uma das opções abaixo:')\n",
    "print('1 - Digite o nome do lutador')\n",
    "print('2 - Sair')\n",
    "escolha = int(input('Digite sua opção: '))\n",
    "if escolha == 2:\n",
    "    print('Obrigado por usar o programa')\n",
    "else: \n",
    "    lutador = str(input('Digite o nome do lutador: '))\n",
    "    if lutador == \"\":\n",
    "        print('Você deve digitar o nome do lutador')\n",
    "    else:\n",
    "        peso = float(input('Digite o peso do lutador em Kg: '))\n",
    "        if peso < 40:\n",
    "           print('O peso digitado não equivale a nenhuma categoria')\n",
    "        elif peso <= 65 and peso >= 40:\n",
    "           print('O lutador {} pesa {} Kg com enquadramento na categoria \"Pena\"' .format(lutador,peso))\n",
    "        elif peso >= 65 and peso < 72 :\n",
    "           print('O lutador {} pesa {} Kg com enquadramento na categoria \"Leve\"' .format(lutador,peso))\n",
    "        elif peso >= 72 and peso < 79 :\n",
    "           print('O lutador {} pesa {} Kg com enquadramento na categoria \"Ligeiro\"' .format(lutador,peso))\n",
    "        elif peso >= 79 and peso < 86 :\n",
    "           print('O lutador {} pesa {} Kg com enquadramento na categoria \"Meio-médio\"' .format(lutador,peso))\n",
    "        elif peso >= 86 and peso < 93 :\n",
    "           print('O lutador {} pesa {} Kg com enquadramento na categoria \"Médio\"' .format(lutador,peso))\n",
    "        elif peso >= 93 and peso < 100 :\n",
    "           print('O lutador {} pesa {} Kg com enquadramento na categoria \"Meio-pesado\"' .format(lutador,peso))\n",
    "        elif peso >= 100:\n",
    "           print('O lutador {} pesa {} Kg com enquadramento na categoria \"Pesado\"' .format(lutador,peso))"
   ]
  }
 ],
 "metadata": {
  "kernelspec": {
   "argv": [
    "python",
    "-m",
    "ipykernel_launcher",
    "-f",
    "{connection_file}"
   ],
   "display_name": "Python 3",
   "env": null,
   "interrupt_mode": "signal",
   "language": "python",
   "metadata": null,
   "name": "python3"
  },
  "name": "Untitled.ipynb"
 },
 "nbformat": 4,
 "nbformat_minor": 5
}
